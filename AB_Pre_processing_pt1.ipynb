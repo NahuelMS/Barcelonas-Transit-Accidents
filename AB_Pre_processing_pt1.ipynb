{
 "cells": [
  {
   "cell_type": "markdown",
   "metadata": {},
   "source": [
    "<h1><center>Barcelona's Transit Accidents 2017-2018<b> Part 1</b>: Raw Dataset Preprocessing</center></h1>"
   ]
  },
  {
   "cell_type": "markdown",
   "metadata": {},
   "source": [
    "<p style = \"font-family:arial;font-size:19px;\">This is a dataset of car accidents that occurred during the years of 2017-2018 in the City of Barcelona, Spain. The raw dataset was downloaded from a government page: <a href=\"https://opendata-ajuntament.barcelona.cat/es/\">Open Barcelona</a>.</p> "
   ]
  },
  {
   "cell_type": "markdown",
   "metadata": {},
   "source": [
    "<p style = \"font-family:arial;font-size:19px;\">As a raw dataset, it presents a variety of issues: It is written in Catalan, it has inconsistent labelling, irrelevant information, etc. In this part of the work we will fix these issues, translate the sheets to English, add new columns with categorical or numerical values and left the dataset ready for the exploratory analysis.</p>"
   ]
  },
  {
   "cell_type": "markdown",
   "metadata": {},
   "source": [
    "<p style = \"font-family:arial;font-size:19px;\">The first step will be to set our environment with all the required modules that we are going to use in this part of the work.</p>"
   ]
  },
  {
   "cell_type": "code",
   "execution_count": 1,
   "metadata": {},
   "outputs": [],
   "source": [
    "#Setting Numpy for arrays and calculations:\n",
    "import numpy as np\n",
    "\n",
    "#Setting Pandas for Dataframes managing:\n",
    "import pandas as pd\n",
    "pd.set_option(\"display.precision\", 4)\n",
    "pd.set_option('display.max_rows', 500)\n",
    "pd.set_option('display.max_columns', 500)\n",
    "pd.set_option('display.width', 1000)\n",
    "pd.set_option('display.float_format', lambda x: '%.3f' % x)\n",
    "\n",
    "#Setting pyproj for coordinates projections:\n",
    "from pyproj import Proj\n",
    "\n",
    "#Not bother with warning messages\n",
    "import warnings\n",
    "warnings.filterwarnings('ignore')"
   ]
  },
  {
   "cell_type": "markdown",
   "metadata": {},
   "source": [
    "<p style = \"font-family:arial;font-size:19px;\">We have two different Datasheets, one from 2017 and another from 2018. We are going to load both and concatenate them to one named df0.</p>"
   ]
  },
  {
   "cell_type": "code",
   "execution_count": 2,
   "metadata": {},
   "outputs": [],
   "source": [
    "#Loading the Dataframes:\n",
    "df2017 = pd.read_csv(\"2017_accidents_gu_bcn_m.csv\", ',')\n",
    "df2018 = pd.read_csv(\"2018_accidents_gu_bcn_m.csv\", ',')\n",
    "\n",
    "#Concatenating the Dataframes into one:\n",
    "df0 = pd.concat([df2017, df2018])"
   ]
  },
  {
   "cell_type": "markdown",
   "metadata": {},
   "source": [
    "<p style = \"font-family:arial;font-size:19px;\">We are going to start working with the columns:</p>"
   ]
  },
  {
   "cell_type": "code",
   "execution_count": 3,
   "metadata": {
    "scrolled": true
   },
   "outputs": [
    {
     "data": {
      "text/plain": [
       "Index(['Numero_expedient', 'Codi_districte', 'Nom_districte', 'Codi_barri', 'Nom_barri', 'Codi_carrer', 'Nom_carrer', 'Num_postal', 'Descripcio_dia_setmana', 'Dia_setmana', 'Descripcio_tipus_dia', 'Any', 'Mes_any', 'Nom_mes', 'Dia_mes', 'Hora_dia', 'Descripcio_torn', 'Descripcio_causa_vianant', 'Numero_morts', 'Numero_lesionats_lleus', 'Numero_lesionats_greus', 'Numero_victimes', 'Numero_vehicles_implicats', 'Coordenada_UTM_X', 'Coordenada_UTM_Y'], dtype='object')"
      ]
     },
     "execution_count": 3,
     "metadata": {},
     "output_type": "execute_result"
    }
   ],
   "source": [
    "#Checking the columns:\n",
    "df0.columns"
   ]
  },
  {
   "cell_type": "markdown",
   "metadata": {},
   "source": [
    "<p style = \"font-family:arial;font-size:19px;\">As we can see, the names of the columns are written in Catalan so we are going to translate them to English:</p>"
   ]
  },
  {
   "cell_type": "code",
   "execution_count": 4,
   "metadata": {
    "scrolled": true
   },
   "outputs": [
    {
     "data": {
      "text/html": [
       "<div>\n",
       "<style scoped>\n",
       "    .dataframe tbody tr th:only-of-type {\n",
       "        vertical-align: middle;\n",
       "    }\n",
       "\n",
       "    .dataframe tbody tr th {\n",
       "        vertical-align: top;\n",
       "    }\n",
       "\n",
       "    .dataframe thead th {\n",
       "        text-align: right;\n",
       "    }\n",
       "</style>\n",
       "<table border=\"1\" class=\"dataframe\">\n",
       "  <thead>\n",
       "    <tr style=\"text-align: right;\">\n",
       "      <th></th>\n",
       "      <th>Id</th>\n",
       "      <th>District number</th>\n",
       "      <th>District Name</th>\n",
       "      <th>Neighborhood Number</th>\n",
       "      <th>Neighborhood Name</th>\n",
       "      <th>Street Code</th>\n",
       "      <th>Street</th>\n",
       "      <th>Postal Number</th>\n",
       "      <th>Weekday</th>\n",
       "      <th>Weekday 2</th>\n",
       "      <th>Day Description</th>\n",
       "      <th>Year</th>\n",
       "      <th>Month Number</th>\n",
       "      <th>Month</th>\n",
       "      <th>Day</th>\n",
       "      <th>Hour</th>\n",
       "      <th>Part of the Day</th>\n",
       "      <th>Cause</th>\n",
       "      <th>Deaths</th>\n",
       "      <th>Mild Injured</th>\n",
       "      <th>Seriously Injured</th>\n",
       "      <th>Victims</th>\n",
       "      <th>Vehicles Involved</th>\n",
       "      <th>UTM_X</th>\n",
       "      <th>UTM_Y</th>\n",
       "    </tr>\n",
       "  </thead>\n",
       "  <tbody>\n",
       "    <tr>\n",
       "      <th>0</th>\n",
       "      <td>2017S008429</td>\n",
       "      <td>-1</td>\n",
       "      <td>Desconegut</td>\n",
       "      <td>-1</td>\n",
       "      <td>Desconegut</td>\n",
       "      <td>-1</td>\n",
       "      <td>Número 27                                     ...</td>\n",
       "      <td>Desconegut</td>\n",
       "      <td>Divendres</td>\n",
       "      <td>Dv</td>\n",
       "      <td>Laboral</td>\n",
       "      <td>2017</td>\n",
       "      <td>10</td>\n",
       "      <td>Octubre</td>\n",
       "      <td>13</td>\n",
       "      <td>8</td>\n",
       "      <td>Matí</td>\n",
       "      <td>Altres</td>\n",
       "      <td>0</td>\n",
       "      <td>2</td>\n",
       "      <td>0</td>\n",
       "      <td>2</td>\n",
       "      <td>2</td>\n",
       "      <td>426936.65</td>\n",
       "      <td>4577079.15</td>\n",
       "    </tr>\n",
       "    <tr>\n",
       "      <th>1</th>\n",
       "      <td>2017S007316</td>\n",
       "      <td>-1</td>\n",
       "      <td>Desconegut</td>\n",
       "      <td>-1</td>\n",
       "      <td>Desconegut</td>\n",
       "      <td>-1</td>\n",
       "      <td>Número 3 Zona Franca / Número 50 Zona Franca  ...</td>\n",
       "      <td>Desconegut</td>\n",
       "      <td>Divendres</td>\n",
       "      <td>Dv</td>\n",
       "      <td>Laboral</td>\n",
       "      <td>2017</td>\n",
       "      <td>9</td>\n",
       "      <td>Setembre</td>\n",
       "      <td>1</td>\n",
       "      <td>13</td>\n",
       "      <td>Matí</td>\n",
       "      <td>No és causa del  vianant</td>\n",
       "      <td>0</td>\n",
       "      <td>2</td>\n",
       "      <td>0</td>\n",
       "      <td>2</td>\n",
       "      <td>2</td>\n",
       "      <td>426503.22</td>\n",
       "      <td>4577014.83</td>\n",
       "    </tr>\n",
       "    <tr>\n",
       "      <th>2</th>\n",
       "      <td>2017S010210</td>\n",
       "      <td>-1</td>\n",
       "      <td>Desconegut</td>\n",
       "      <td>-1</td>\n",
       "      <td>Desconegut</td>\n",
       "      <td>-1</td>\n",
       "      <td>Litoral (Besòs)                               ...</td>\n",
       "      <td>K128</td>\n",
       "      <td>Divendres</td>\n",
       "      <td>Dv</td>\n",
       "      <td>Laboral</td>\n",
       "      <td>2017</td>\n",
       "      <td>12</td>\n",
       "      <td>Desembre</td>\n",
       "      <td>8</td>\n",
       "      <td>21</td>\n",
       "      <td>Tarda</td>\n",
       "      <td>No és causa del  vianant</td>\n",
       "      <td>0</td>\n",
       "      <td>5</td>\n",
       "      <td>0</td>\n",
       "      <td>5</td>\n",
       "      <td>2</td>\n",
       "      <td>430450.5</td>\n",
       "      <td>4579358.49</td>\n",
       "    </tr>\n",
       "  </tbody>\n",
       "</table>\n",
       "</div>"
      ],
      "text/plain": [
       "                Id  District number District Name  Neighborhood Number Neighborhood Name  Street Code                                             Street Postal Number    Weekday Weekday 2 Day Description  Year  Month Number     Month  Day  Hour Part of the Day                     Cause  Deaths  Mild Injured  Seriously Injured  Victims  Vehicles Involved      UTM_X       UTM_Y\n",
       "0  2017S008429                   -1    Desconegut                   -1        Desconegut           -1  Número 27                                     ...    Desconegut  Divendres        Dv         Laboral  2017            10   Octubre   13     8            Matí                    Altres       0             2                  0        2                  2  426936.65  4577079.15\n",
       "1  2017S007316                   -1    Desconegut                   -1        Desconegut           -1  Número 3 Zona Franca / Número 50 Zona Franca  ...    Desconegut  Divendres        Dv         Laboral  2017             9  Setembre    1    13            Matí  No és causa del  vianant       0             2                  0        2                  2  426503.22  4577014.83\n",
       "2  2017S010210                   -1    Desconegut                   -1        Desconegut           -1  Litoral (Besòs)                               ...    K128        Divendres        Dv         Laboral  2017            12  Desembre    8    21           Tarda  No és causa del  vianant       0             5                  0        5                  2   430450.5  4579358.49"
      ]
     },
     "execution_count": 4,
     "metadata": {},
     "output_type": "execute_result"
    }
   ],
   "source": [
    "#We need to map the names of the columns to English:\n",
    "Catalan = df0.columns.tolist()\n",
    "\n",
    "#Writting the Names of the Columns in English:\n",
    "English = ['Id', 'District Name', 'Neighborhood Name', 'Street', 'Weekday', 'Month', 'Day', 'Hour', 'Part of the day', 'Mild injuries', 'Serious injuries', 'Victims', 'Vehicles involved', 'Longitude', 'Latitude']\n",
    "\n",
    "#Creating the Map:\n",
    "map_ctoe = {'Numero_expedient': 'Id', 'Codi_districte': 'District number', 'Nom_districte' : 'District Name', 'Codi_barri': 'Neighborhood Number', 'Nom_barri' : 'Neighborhood Name', 'Codi_carrer': 'Street Code', 'Nom_carrer': 'Street', 'Num_postal': \"Postal Number\", 'Descripcio_dia_setmana': 'Weekday', 'Dia_setmana': \"Weekday 2\", 'Descripcio_tipus_dia':'Day Description', 'Any': 'Year', 'Mes_any':'Month Number', 'Nom_mes': 'Month', 'Dia_mes' : 'Day', 'Hora_dia': 'Hour', 'Descripcio_torn': 'Part of the Day', 'Descripcio_causa_vianant': 'Cause', 'Numero_morts':'Deaths', 'Numero_lesionats_lleus': 'Mild Injured', 'Numero_lesionats_greus': 'Seriously Injured', 'Numero_victimes' : 'Victims', 'Numero_vehicles_implicats': 'Vehicles Involved', 'Coordenada_UTM_X' : 'UTM_X' , 'Coordenada_UTM_Y' : 'UTM_Y'}\n",
    "\n",
    "#Mapping:\n",
    "df0.rename(columns=map_ctoe, inplace=True)\n",
    "\n",
    "#Checking how the DataFrame looks like now:\n",
    "df0.head(3)"
   ]
  },
  {
   "cell_type": "markdown",
   "metadata": {},
   "source": [
    "<p style = \"font-family:arial;font-size:19px;\">We can observe that the spatial location of the accidents was written with UTM coordinates. For personal preference and compatibility, it is better to have them in LAT: LONG format. To make this possible we are going to use a specific projection module named \"pyproj\". The rest of the information needed for the convertion can be obtained from the internet: \n",
    "<i style = \"font-family:arial;font-size:19px;\"><b> Barcelona is in the UTM zone 31T in the North Hemisphere and the UTM coordinates were wrote using datum WGS84.</b></i></p>\n"
   ]
  },
  {
   "cell_type": "code",
   "execution_count": 5,
   "metadata": {},
   "outputs": [],
   "source": [
    "#Translating UTM to string, replacing the \",\" for a '.' and then transforming them to a float64:\n",
    "UTM_X, UTM_Y = df0['UTM_X'].tolist(), df0['UTM_Y'].tolist()\n",
    "UTM_X, UTM_Y = [str(i).replace(',','.') for i in UTM_X], [str(i).replace(',','.') for i in UTM_Y]\n",
    "df0['UTM_X'], df0['UTM_Y'] = [float(i) for i in UTM_X], [float(i) for i in UTM_Y]\n",
    "\n",
    "#Using pyproj.Proj for the projection:\n",
    "\n",
    "maplatlong = Proj(\"+proj=utm +zone=31T, +north +west +ellps=WGS84 +datum=WGS84 +units=m +no_defs\")\n",
    "lon, lat = maplatlong(df0['UTM_X'].tolist(), df0['UTM_Y'].tolist(), inverse=True)\n",
    "\n",
    "#Making the new columns:\n",
    "df0['Latitude'] = lat\n",
    "df0['Longitude'] = lon "
   ]
  },
  {
   "cell_type": "markdown",
   "metadata": {},
   "source": [
    "<p style = \"font-family:arial;font-size:19px;\">We can also observe the presence of some columns that we will not need:</p>\n",
    "<ul>\n",
    "    <li style = \"font-family:arial;font-size:19px;\"><i><b>Day Description</b></i>: Is set to \"Laboral\" in all the rows.</li>\n",
    "    <li style = \"font-family:arial;font-size:19px;\"><i><b>Weekday 2</b></i>: It has the same info that Weekday.</li>\n",
    "    <li style = \"font-family:arial;font-size:19px;\"><i><b>UTM_X</b></i> and <i><b>UTM_Y</b></i>: We are going to use the LAT and  LON coordinates.</li>\n",
    "        <li style = \"font-family:arial;font-size:19px;\"><i><b>Postal Number</b></i> and <i><b>Street Code</b></i>: They are not consistent and they will not be used in the analysis.</li>\n",
    "</ul> \n"
   ]
  },
  {
   "cell_type": "code",
   "execution_count": 6,
   "metadata": {},
   "outputs": [
    {
     "name": "stdout",
     "output_type": "stream",
     "text": [
      "Laboral    20275\n",
      "Name: Day Description, dtype: int64\n"
     ]
    }
   ],
   "source": [
    "#Checking 'Day Description' column:\n",
    "print(df0['Day Description'].value_counts())"
   ]
  },
  {
   "cell_type": "code",
   "execution_count": 7,
   "metadata": {
    "scrolled": true
   },
   "outputs": [],
   "source": [
    "#Day Description is the same in every row so i am going to drop that column:\n",
    "df0.drop('Day Description', axis=1, inplace=True)\n",
    "\n",
    "#We don't need 2 columns for the weekday so we can drop the abreviated one:\n",
    "df0.drop('Weekday 2', axis=1, inplace=True)\n",
    "\n",
    "#We are going to work with LAT:LONG and not with UTM so we can drop that columns to\n",
    "df0.drop(['UTM_X','UTM_Y'], axis=1, inplace=True)\n",
    "\n",
    "#We are not going to use the postal number:\n",
    "df0.drop('Postal Number', axis=1, inplace=True)\n",
    "\n",
    "#The Street Code column is not consistent and it is not clear what it means:\n",
    "df0.drop('Street Code', axis=1, inplace=True)"
   ]
  },
  {
   "cell_type": "markdown",
   "metadata": {},
   "source": [
    "<p style = \"font-family:arial;font-size:19px;\">The entries of the categorical columns are written in Catalan so we need to translate them to English too:</p>"
   ]
  },
  {
   "cell_type": "code",
   "execution_count": 8,
   "metadata": {},
   "outputs": [
    {
     "name": "stdout",
     "output_type": "stream",
     "text": [
      "['Divendres' 'Dijous' 'Dimecres' 'Dissabte' 'Dimarts' 'Dilluns' 'Diumenge']\n",
      "['Octubre' 'Setembre' 'Desembre' 'Juliol' 'Maig' 'Juny' 'Gener' 'Abril'\n",
      " 'Març' 'Novembre' 'Febrer' 'Agost']\n",
      "['Matí' 'Tarda' 'Nit']\n",
      "['Altres' 'No és causa del  vianant' 'Desobeir el senyal del semàfor'\n",
      " 'Transitar a peu per la calçada' 'Creuar per fora pas de vianants'\n",
      " 'Desobeir altres senyals']\n"
     ]
    }
   ],
   "source": [
    "print(df0['Weekday'].unique())\n",
    "print(df0['Month'].unique())\n",
    "print(df0['Part of the Day'].unique())\n",
    "print(df0['Cause'].unique())"
   ]
  },
  {
   "cell_type": "code",
   "execution_count": 9,
   "metadata": {},
   "outputs": [],
   "source": [
    "#Catalan:\n",
    "weekdays_c = ['Dilluns', 'Dimarts', 'Dimecres', 'Dijous', 'Divendres', 'Dissabte', 'Diumenge']\n",
    "months_c = ['Gener', 'Febrer', 'Març', 'Abril', 'Maig', 'Juny', 'Juliol', 'Agost', 'Setembre', 'Octubre', 'Novembre', 'Desembre']\n",
    "parts_of_the_day_c = ['Matí', 'Tarda', 'Nit']\n",
    "cause_c = ['Altres', 'No és causa del  vianant', 'Desobeir el senyal del semàfor', 'Transitar a peu per la calçada', 'Creuar per fora pas de vianants', 'Desobeir altres senyals']\n",
    "\n",
    "#English:\n",
    "weekdays = ['Monday', 'Thursday', 'Wednesday','Tuesday', 'Friday', 'Saturday', 'Sunday']\n",
    "months = ['January', 'February', 'March', 'April', 'May', 'June', 'July',\n",
    "          'August', 'September', 'October', 'November', 'December']\n",
    "parts_of_the_day = ['Morning', 'Afternoon', 'Night']\n",
    "cause = ['Other', 'Not pedestrian at fault', 'Disobeying the stop light', 'Walking by foot on the road', 'Not crossing in the zebra lines', 'Disobeying other signals']\n",
    "\n",
    "#Creating the maps:\n",
    "weekdays_to_english = dict(zip(weekdays_c, weekdays))\n",
    "months_to_english = dict(zip(months_c, months))\n",
    "potd_to_english = dict(zip(parts_of_the_day_c, parts_of_the_day))\n",
    "causes_to_english = dict(zip(cause_c, cause))\n",
    "\n",
    "#Mapping the values:\n",
    "df0[\"Weekday\"].replace(weekdays_to_english, inplace=True)\n",
    "df0[\"Month\"].replace(months_to_english, inplace=True)\n",
    "df0[\"Part of the Day\"].replace(potd_to_english, inplace=True)\n",
    "df0[\"Cause\"].replace(causes_to_english, inplace=True)"
   ]
  },
  {
   "cell_type": "markdown",
   "metadata": {},
   "source": [
    "<p style = \"font-family:arial;font-size:19px;\">This is how the Dataframe looks like after the translation:</p>"
   ]
  },
  {
   "cell_type": "code",
   "execution_count": 10,
   "metadata": {},
   "outputs": [
    {
     "data": {
      "text/html": [
       "<div>\n",
       "<style scoped>\n",
       "    .dataframe tbody tr th:only-of-type {\n",
       "        vertical-align: middle;\n",
       "    }\n",
       "\n",
       "    .dataframe tbody tr th {\n",
       "        vertical-align: top;\n",
       "    }\n",
       "\n",
       "    .dataframe thead th {\n",
       "        text-align: right;\n",
       "    }\n",
       "</style>\n",
       "<table border=\"1\" class=\"dataframe\">\n",
       "  <thead>\n",
       "    <tr style=\"text-align: right;\">\n",
       "      <th></th>\n",
       "      <th>Id</th>\n",
       "      <th>District number</th>\n",
       "      <th>District Name</th>\n",
       "      <th>Neighborhood Number</th>\n",
       "      <th>Neighborhood Name</th>\n",
       "      <th>Street</th>\n",
       "      <th>Weekday</th>\n",
       "      <th>Year</th>\n",
       "      <th>Month Number</th>\n",
       "      <th>Month</th>\n",
       "      <th>Day</th>\n",
       "      <th>Hour</th>\n",
       "      <th>Part of the Day</th>\n",
       "      <th>Cause</th>\n",
       "      <th>Deaths</th>\n",
       "      <th>Mild Injured</th>\n",
       "      <th>Seriously Injured</th>\n",
       "      <th>Victims</th>\n",
       "      <th>Vehicles Involved</th>\n",
       "      <th>Latitude</th>\n",
       "      <th>Longitude</th>\n",
       "    </tr>\n",
       "  </thead>\n",
       "  <tbody>\n",
       "    <tr>\n",
       "      <th>0</th>\n",
       "      <td>2017S008429</td>\n",
       "      <td>-1</td>\n",
       "      <td>Desconegut</td>\n",
       "      <td>-1</td>\n",
       "      <td>Desconegut</td>\n",
       "      <td>Número 27                                     ...</td>\n",
       "      <td>Friday</td>\n",
       "      <td>2017</td>\n",
       "      <td>10</td>\n",
       "      <td>October</td>\n",
       "      <td>13</td>\n",
       "      <td>8</td>\n",
       "      <td>Morning</td>\n",
       "      <td>Other</td>\n",
       "      <td>0</td>\n",
       "      <td>2</td>\n",
       "      <td>0</td>\n",
       "      <td>2</td>\n",
       "      <td>2</td>\n",
       "      <td>41.342</td>\n",
       "      <td>2.127</td>\n",
       "    </tr>\n",
       "    <tr>\n",
       "      <th>1</th>\n",
       "      <td>2017S007316</td>\n",
       "      <td>-1</td>\n",
       "      <td>Desconegut</td>\n",
       "      <td>-1</td>\n",
       "      <td>Desconegut</td>\n",
       "      <td>Número 3 Zona Franca / Número 50 Zona Franca  ...</td>\n",
       "      <td>Friday</td>\n",
       "      <td>2017</td>\n",
       "      <td>9</td>\n",
       "      <td>September</td>\n",
       "      <td>1</td>\n",
       "      <td>13</td>\n",
       "      <td>Morning</td>\n",
       "      <td>Not pedestrian at fault</td>\n",
       "      <td>0</td>\n",
       "      <td>2</td>\n",
       "      <td>0</td>\n",
       "      <td>2</td>\n",
       "      <td>2</td>\n",
       "      <td>41.341</td>\n",
       "      <td>2.122</td>\n",
       "    </tr>\n",
       "    <tr>\n",
       "      <th>2</th>\n",
       "      <td>2017S010210</td>\n",
       "      <td>-1</td>\n",
       "      <td>Desconegut</td>\n",
       "      <td>-1</td>\n",
       "      <td>Desconegut</td>\n",
       "      <td>Litoral (Besòs)                               ...</td>\n",
       "      <td>Friday</td>\n",
       "      <td>2017</td>\n",
       "      <td>12</td>\n",
       "      <td>December</td>\n",
       "      <td>8</td>\n",
       "      <td>21</td>\n",
       "      <td>Afternoon</td>\n",
       "      <td>Not pedestrian at fault</td>\n",
       "      <td>0</td>\n",
       "      <td>5</td>\n",
       "      <td>0</td>\n",
       "      <td>5</td>\n",
       "      <td>2</td>\n",
       "      <td>41.363</td>\n",
       "      <td>2.168</td>\n",
       "    </tr>\n",
       "    <tr>\n",
       "      <th>3</th>\n",
       "      <td>2017S006364</td>\n",
       "      <td>-1</td>\n",
       "      <td>Desconegut</td>\n",
       "      <td>-1</td>\n",
       "      <td>Desconegut</td>\n",
       "      <td>Número 3 Zona Franca                          ...</td>\n",
       "      <td>Friday</td>\n",
       "      <td>2017</td>\n",
       "      <td>7</td>\n",
       "      <td>July</td>\n",
       "      <td>21</td>\n",
       "      <td>2</td>\n",
       "      <td>Night</td>\n",
       "      <td>Not pedestrian at fault</td>\n",
       "      <td>0</td>\n",
       "      <td>1</td>\n",
       "      <td>0</td>\n",
       "      <td>1</td>\n",
       "      <td>2</td>\n",
       "      <td>41.340</td>\n",
       "      <td>2.126</td>\n",
       "    </tr>\n",
       "    <tr>\n",
       "      <th>4</th>\n",
       "      <td>2017S004615</td>\n",
       "      <td>10</td>\n",
       "      <td>Sant Martí</td>\n",
       "      <td>64</td>\n",
       "      <td>el Camp de l'Arpa del Clot</td>\n",
       "      <td>Las Navas de Tolosa                           ...</td>\n",
       "      <td>Tuesday</td>\n",
       "      <td>2017</td>\n",
       "      <td>5</td>\n",
       "      <td>May</td>\n",
       "      <td>25</td>\n",
       "      <td>14</td>\n",
       "      <td>Afternoon</td>\n",
       "      <td>Not pedestrian at fault</td>\n",
       "      <td>0</td>\n",
       "      <td>1</td>\n",
       "      <td>0</td>\n",
       "      <td>1</td>\n",
       "      <td>3</td>\n",
       "      <td>41.418</td>\n",
       "      <td>2.186</td>\n",
       "    </tr>\n",
       "  </tbody>\n",
       "</table>\n",
       "</div>"
      ],
      "text/plain": [
       "                Id  District number District Name  Neighborhood Number           Neighborhood Name                                             Street  Weekday  Year  Month Number      Month  Day  Hour Part of the Day                    Cause  Deaths  Mild Injured  Seriously Injured  Victims  Vehicles Involved  Latitude  Longitude\n",
       "0  2017S008429                   -1    Desconegut                   -1                  Desconegut  Número 27                                     ...   Friday  2017            10    October   13     8         Morning                    Other       0             2                  0        2                  2    41.342      2.127\n",
       "1  2017S007316                   -1    Desconegut                   -1                  Desconegut  Número 3 Zona Franca / Número 50 Zona Franca  ...   Friday  2017             9  September    1    13         Morning  Not pedestrian at fault       0             2                  0        2                  2    41.341      2.122\n",
       "2  2017S010210                   -1    Desconegut                   -1                  Desconegut  Litoral (Besòs)                               ...   Friday  2017            12   December    8    21       Afternoon  Not pedestrian at fault       0             5                  0        5                  2    41.363      2.168\n",
       "3  2017S006364                   -1    Desconegut                   -1                  Desconegut  Número 3 Zona Franca                          ...   Friday  2017             7       July   21     2           Night  Not pedestrian at fault       0             1                  0        1                  2    41.340      2.126\n",
       "4  2017S004615                   10    Sant Martí                   64  el Camp de l'Arpa del Clot  Las Navas de Tolosa                           ...  Tuesday  2017             5        May   25    14       Afternoon  Not pedestrian at fault       0             1                  0        1                  3    41.418      2.186"
      ]
     },
     "execution_count": 10,
     "metadata": {},
     "output_type": "execute_result"
    }
   ],
   "source": [
    "df0.head()"
   ]
  },
  {
   "cell_type": "markdown",
   "metadata": {},
   "source": [
    "<p style = \"font-family:arial;font-size:19px;\">It is noticeable that the are rows like the first 4 that were added to the Dataframe later in the making process. They have not consistent Neighborhood and District information. We will delete them all.\n",
    "We also want to check for duplicates entries and delete them.</p>"
   ]
  },
  {
   "cell_type": "code",
   "execution_count": 11,
   "metadata": {
    "scrolled": true
   },
   "outputs": [
    {
     "name": "stdout",
     "output_type": "stream",
     "text": [
      "There are 20275 rows in the original datasheet. 14 are duplicates entries and 27 have \"Unknown value\".\n",
      "The final number of rows is 20234, 41 rows were deleted.\n"
     ]
    }
   ],
   "source": [
    "#Counting the original number of rows:\n",
    "n_of_rows = df0.shape[0]\n",
    "\n",
    "#Counting the number of rows with 'Unknown' values:\n",
    "n_of_p_row = len(df0[(df0['District Name'] == 'Desconegut') | (df0['Neighborhood Name'] == 'Desconegut') ]['Id'].tolist())\n",
    "\n",
    "#Dropping the rows wich have a couple of columns set to Unknow(Desconegut):\n",
    "df0 = df0[(df0['District Name'] != 'Desconegut') & (df0['Neighborhood Name'] != 'Desconegut') ].reset_index(drop=True)\n",
    "\n",
    "#Counting the number of Duplicate entries:\n",
    "n_of_duplicates = len(df0[df0.duplicated('Id', keep = 'last') == True]['Id'].tolist())\n",
    "\n",
    "#In addition we want to drop duplicated rows if there are:\n",
    "df0.drop_duplicates(subset = 'Id', inplace=True)\n",
    "df0.reset_index(drop=True)\n",
    "\n",
    "#Counting the final number of columns:\n",
    "n_of_columns_f = df0.shape[0]\n",
    "\n",
    "#Printing the changes:\n",
    "print('There are {} rows in the original datasheet. {} are duplicates entries and {} have \"Unknown value\".'.format(n_of_rows, n_of_duplicates, n_of_p_row))\n",
    "print('The final number of rows is {}, {} rows were deleted.'.format(n_of_columns_f, n_of_rows - n_of_columns_f ))"
   ]
  },
  {
   "cell_type": "markdown",
   "metadata": {},
   "source": [
    "<p style = \"font-family:arial;font-size:19px;\">We can see below that the type of each column is right and there is only one row with missing value in the <b>\"Street\"</b> column. We need to drop this row."
   ]
  },
  {
   "cell_type": "code",
   "execution_count": 12,
   "metadata": {
    "scrolled": true
   },
   "outputs": [
    {
     "name": "stdout",
     "output_type": "stream",
     "text": [
      "<class 'pandas.core.frame.DataFrame'>\n",
      "Int64Index: 20234 entries, 0 to 20247\n",
      "Data columns (total 21 columns):\n",
      "Id                     20234 non-null object\n",
      "District number        20234 non-null int64\n",
      "District Name          20234 non-null object\n",
      "Neighborhood Number    20234 non-null int64\n",
      "Neighborhood Name      20234 non-null object\n",
      "Street                 20233 non-null object\n",
      "Weekday                20234 non-null object\n",
      "Year                   20234 non-null int64\n",
      "Month Number           20234 non-null int64\n",
      "Month                  20234 non-null object\n",
      "Day                    20234 non-null int64\n",
      "Hour                   20234 non-null int64\n",
      "Part of the Day        20234 non-null object\n",
      "Cause                  20234 non-null object\n",
      "Deaths                 20234 non-null int64\n",
      "Mild Injured           20234 non-null int64\n",
      "Seriously Injured      20234 non-null int64\n",
      "Victims                20234 non-null int64\n",
      "Vehicles Involved      20234 non-null int64\n",
      "Latitude               20234 non-null float64\n",
      "Longitude              20234 non-null float64\n",
      "dtypes: float64(2), int64(11), object(8)\n",
      "memory usage: 3.4+ MB\n"
     ]
    }
   ],
   "source": [
    "#Checking for rows that we don't want or have some missing values:\n",
    "df0.info()\n",
    "\n",
    "#Dropping the missing value row:\n",
    "df0.dropna(inplace=True);"
   ]
  },
  {
   "cell_type": "markdown",
   "metadata": {},
   "source": [
    "<p style = \"font-family:arial;font-size:19px;\">Regarding the <b>\"Street\"</b> column we can observe a lot of inconsistency in the way the entries were written:</p>\n",
    "    <ul>\n",
    "        <li style = \"font-family:arial;font-size:19px;\">There are some names written in caps and some written in lower case for the same street.</li>\n",
    "        <li style = \"font-family:arial;font-size:19px;\">There are many empty spaces distributed along the entries for the same streets or corners.</li>\n",
    "        <li style = \"font-family:arial;font-size:19px;\">Some streets have the \"Av\" and \"Pg\" prefixes written on them in only some entries.</li>\n",
    "        <li style = \"font-family:arial;font-size:19px;\">The naming scheme of the corners is not consistent neither: The same corners are written \"Street A / Street B\" for some entries and \"Street B / Street A\" for others.</li>\n",
    "    </ul> "
   ]
  },
  {
   "cell_type": "code",
   "execution_count": 13,
   "metadata": {
    "scrolled": true
   },
   "outputs": [
    {
     "name": "stdout",
     "output_type": "stream",
     "text": [
      "We have a total of 5862 different entries for the \"Street\" column in the original Datasheet\n"
     ]
    },
    {
     "data": {
      "text/plain": [
       "['Las Navas de Tolosa                               ',\n",
       " 'Indústria / Trinxant                              ',\n",
       " 'Trinxant / Indústria                              ',\n",
       " 'Indústria                                         ',\n",
       " 'Maragall                                          ',\n",
       " 'ST ANTONI M CLARET / Pg Maragall                  ',\n",
       " 'Sant Antoni Maria Claret / Guinardó               ',\n",
       " 'Sant Antoni Maria Claret                          ',\n",
       " 'Còrsega / Còrsega                                 ',\n",
       " 'CÒRSEGA / Dos de Maig                             ',\n",
       " 'Rosselló / Independència                          ',\n",
       " 'VALÈNCIA                                          ',\n",
       " 'València                                          ',\n",
       " 'València / Independència                          ',\n",
       " 'ARAGÓ / Corunya                                   ']"
      ]
     },
     "execution_count": 13,
     "metadata": {},
     "output_type": "execute_result"
    }
   ],
   "source": [
    "#Checking the document we see that we have problems with the street number and values.\n",
    "Street_names = df0['Street'].unique().tolist()\n",
    "\n",
    "#Saving the original number of rows.\n",
    "print('We have a total of {} different entries for the \"Street\" column in the original Datasheet'.format(len(Street_names)))\n",
    "Street_names[0:15]"
   ]
  },
  {
   "cell_type": "markdown",
   "metadata": {},
   "source": [
    "<p style = \"font-family:arial;font-size:19px;\">In this step we are going to use string methods to remove all the extra white spaces, put all the names in caps and remove the \"Av\" and \"Pg\" prefixes.</p>"
   ]
  },
  {
   "cell_type": "code",
   "execution_count": 14,
   "metadata": {},
   "outputs": [],
   "source": [
    "#We have streets names in different formats so we need to correct this somehow:\n",
    "df0['Street'].astype(str)\n",
    "df0['Street']=[(lambda x: x.upper())(x) for x in df0['Street']]\n",
    "\n",
    "#Getting rid of the prefixes and the blank spaces:\n",
    "df0['Street']=[(lambda x: x.replace('AV',''))(x) for x in df0['Street']]\n",
    "df0['Street']=[(lambda x: x.replace('PG',''))(x) for x in df0['Street']]\n",
    "df0['Street']=[(lambda x: x.replace('\\'','`'))(x) for x in df0['Street']]\n",
    "df0['Street']=[(lambda x: x.strip())(x) for x in df0['Street']]"
   ]
  },
  {
   "cell_type": "markdown",
   "metadata": {},
   "source": [
    "<p style = \"font-family:arial;font-size:19px;\">To solve the irregular naming scheme for corners we will use the alphabetical order criterion, for example: A Street / B Street. We are going to remove the extra blank spaces of the names but keep the separation character (\" / \").</p>"
   ]
  },
  {
   "cell_type": "code",
   "execution_count": 15,
   "metadata": {},
   "outputs": [],
   "source": [
    "#Making a function for simetrization:\n",
    "def simetrization(string, sep,n_split=2):\n",
    "    newlist = string.split(sep, n_split-1)\n",
    "    newlist = list(map(str.strip,newlist))\n",
    "    newlist.sort()\n",
    "    newlist = sep.join(newlist) \n",
    "    return newlist"
   ]
  },
  {
   "cell_type": "code",
   "execution_count": 16,
   "metadata": {
    "scrolled": true
   },
   "outputs": [
    {
     "name": "stdout",
     "output_type": "stream",
     "text": [
      "We had 5862 different Street and Corner Names in the original Datasheet. Now, the final number of different entries is 4164.\n",
      "1698 names were duplicates of the same Streets and Corners\n"
     ]
    }
   ],
   "source": [
    "#Using the function to make symmetric the corners names:\n",
    "df0['Street'] =[simetrization(x, \" / \") for x in df0['Street']]\n",
    "\n",
    "#Counting the final number of different Street Names:\n",
    "Street_names2 = df0['Street'].sort_values().unique().tolist()\n",
    "\n",
    "print('We had {} different Street and Corner Names in the original Datasheet. Now, the final number of different entries is {}.'.format(len(Street_names),len(Street_names2)))\n",
    "print('{} names were duplicates of the same Streets and Corners'.format(len(Street_names) - len(Street_names2)))"
   ]
  },
  {
   "cell_type": "markdown",
   "metadata": {},
   "source": [
    "<h><font size=\"+1\" style=\"font-family:verdana;\">In this last step, we are going to add some new categorical columns based in classification criterions. Also, we are going to map some categorical values to numerical values to use them in future calculus.</font></h>"
   ]
  },
  {
   "cell_type": "code",
   "execution_count": 17,
   "metadata": {},
   "outputs": [
    {
     "data": {
      "text/html": [
       "<div>\n",
       "<style scoped>\n",
       "    .dataframe tbody tr th:only-of-type {\n",
       "        vertical-align: middle;\n",
       "    }\n",
       "\n",
       "    .dataframe tbody tr th {\n",
       "        vertical-align: top;\n",
       "    }\n",
       "\n",
       "    .dataframe thead th {\n",
       "        text-align: right;\n",
       "    }\n",
       "</style>\n",
       "<table border=\"1\" class=\"dataframe\">\n",
       "  <thead>\n",
       "    <tr style=\"text-align: right;\">\n",
       "      <th></th>\n",
       "      <th>Id</th>\n",
       "      <th>District number</th>\n",
       "      <th>District Name</th>\n",
       "      <th>Neighborhood Number</th>\n",
       "      <th>Neighborhood Name</th>\n",
       "      <th>Street</th>\n",
       "      <th>Weekday</th>\n",
       "      <th>Weekday Number</th>\n",
       "      <th>Year</th>\n",
       "      <th>Month Number</th>\n",
       "      <th>Month</th>\n",
       "      <th>Day</th>\n",
       "      <th>Hour</th>\n",
       "      <th>Part of the Day</th>\n",
       "      <th>Cause</th>\n",
       "      <th>Cause Number</th>\n",
       "      <th>Deaths</th>\n",
       "      <th>Mild Injured</th>\n",
       "      <th>Seriously Injured</th>\n",
       "      <th>Victims</th>\n",
       "      <th>Vehicles Involved</th>\n",
       "      <th>Latitude</th>\n",
       "      <th>Longitude</th>\n",
       "      <th>Mult_Vic</th>\n",
       "      <th>Mult_Cars</th>\n",
       "      <th>Corner</th>\n",
       "      <th>Serious</th>\n",
       "    </tr>\n",
       "  </thead>\n",
       "  <tbody>\n",
       "    <tr>\n",
       "      <th>0</th>\n",
       "      <td>2017S004615</td>\n",
       "      <td>10</td>\n",
       "      <td>Sant Martí</td>\n",
       "      <td>64</td>\n",
       "      <td>el Camp de l'Arpa del Clot</td>\n",
       "      <td>LAS NAS DE TOLOSA</td>\n",
       "      <td>Tuesday</td>\n",
       "      <td>4</td>\n",
       "      <td>2017</td>\n",
       "      <td>5</td>\n",
       "      <td>May</td>\n",
       "      <td>25</td>\n",
       "      <td>14</td>\n",
       "      <td>Afternoon</td>\n",
       "      <td>Not pedestrian at fault</td>\n",
       "      <td>2</td>\n",
       "      <td>0</td>\n",
       "      <td>1</td>\n",
       "      <td>0</td>\n",
       "      <td>1</td>\n",
       "      <td>3</td>\n",
       "      <td>41.418</td>\n",
       "      <td>2.186</td>\n",
       "      <td>No</td>\n",
       "      <td>Yes</td>\n",
       "      <td>No</td>\n",
       "      <td>No</td>\n",
       "    </tr>\n",
       "    <tr>\n",
       "      <th>1</th>\n",
       "      <td>2017S007775</td>\n",
       "      <td>10</td>\n",
       "      <td>Sant Martí</td>\n",
       "      <td>64</td>\n",
       "      <td>el Camp de l'Arpa del Clot</td>\n",
       "      <td>INDÚSTRIA / TRINXANT</td>\n",
       "      <td>Wednesday</td>\n",
       "      <td>3</td>\n",
       "      <td>2017</td>\n",
       "      <td>9</td>\n",
       "      <td>September</td>\n",
       "      <td>20</td>\n",
       "      <td>12</td>\n",
       "      <td>Morning</td>\n",
       "      <td>Not pedestrian at fault</td>\n",
       "      <td>2</td>\n",
       "      <td>0</td>\n",
       "      <td>1</td>\n",
       "      <td>0</td>\n",
       "      <td>1</td>\n",
       "      <td>2</td>\n",
       "      <td>41.418</td>\n",
       "      <td>2.184</td>\n",
       "      <td>No</td>\n",
       "      <td>Yes</td>\n",
       "      <td>Yes</td>\n",
       "      <td>No</td>\n",
       "    </tr>\n",
       "    <tr>\n",
       "      <th>2</th>\n",
       "      <td>2017S004484</td>\n",
       "      <td>10</td>\n",
       "      <td>Sant Martí</td>\n",
       "      <td>64</td>\n",
       "      <td>el Camp de l'Arpa del Clot</td>\n",
       "      <td>INDÚSTRIA / TRINXANT</td>\n",
       "      <td>Saturday</td>\n",
       "      <td>6</td>\n",
       "      <td>2017</td>\n",
       "      <td>5</td>\n",
       "      <td>May</td>\n",
       "      <td>20</td>\n",
       "      <td>21</td>\n",
       "      <td>Afternoon</td>\n",
       "      <td>Not pedestrian at fault</td>\n",
       "      <td>2</td>\n",
       "      <td>0</td>\n",
       "      <td>1</td>\n",
       "      <td>0</td>\n",
       "      <td>1</td>\n",
       "      <td>2</td>\n",
       "      <td>41.418</td>\n",
       "      <td>2.184</td>\n",
       "      <td>No</td>\n",
       "      <td>Yes</td>\n",
       "      <td>Yes</td>\n",
       "      <td>No</td>\n",
       "    </tr>\n",
       "  </tbody>\n",
       "</table>\n",
       "</div>"
      ],
      "text/plain": [
       "                Id  District number District Name  Neighborhood Number           Neighborhood Name                Street    Weekday  Weekday Number  Year  Month Number      Month  Day  Hour Part of the Day                    Cause  Cause Number  Deaths  Mild Injured  Seriously Injured  Victims  Vehicles Involved  Latitude  Longitude Mult_Vic Mult_Cars Corner Serious\n",
       "0  2017S004615                   10    Sant Martí                   64  el Camp de l'Arpa del Clot     LAS NAS DE TOLOSA    Tuesday               4  2017             5        May   25    14       Afternoon  Not pedestrian at fault             2       0             1                  0        1                  3    41.418      2.186       No       Yes     No      No\n",
       "1  2017S007775                   10    Sant Martí                   64  el Camp de l'Arpa del Clot  INDÚSTRIA / TRINXANT  Wednesday               3  2017             9  September   20    12         Morning  Not pedestrian at fault             2       0             1                  0        1                  2    41.418      2.184       No       Yes    Yes      No\n",
       "2  2017S004484                   10    Sant Martí                   64  el Camp de l'Arpa del Clot  INDÚSTRIA / TRINXANT   Saturday               6  2017             5        May   20    21       Afternoon  Not pedestrian at fault             2       0             1                  0        1                  2    41.418      2.184       No       Yes    Yes      No"
      ]
     },
     "execution_count": 17,
     "metadata": {},
     "output_type": "execute_result"
    }
   ],
   "source": [
    "#Adding a Column to account for accidents with more than 1 victim:\n",
    "df0['Mult_Vic'] = [(lambda x: 'Yes' if x>1 else 'No' )(x) for x in df0['Victims']]\n",
    "\n",
    "#Adding a Column to account for accidents with more than 1 vehicle:\n",
    "df0['Mult_Cars'] = [(lambda x: 'Yes' if x>1 else 'No' )(x) for x in df0['Vehicles Involved']]\n",
    "\n",
    "#Adding a Column to account for accidents made in a corner:\n",
    "df0['Corner'] = [(lambda x: 'Yes' if '/' in str(x) else 'No' )(x) for x in df0['Street']]\n",
    "\n",
    "#Adding a Column to account for accidents with serious injuries or Deaths:\n",
    "df0['Serious'] = [(lambda x: 'Yes' if x>0 else 'No' )(x) for x in df0['Seriously Injured']]\n",
    "death_list = df0[df0['Deaths'] > 0].index.tolist()\n",
    "df0.loc[death_list,'Serious'] = 'Yes'\n",
    "\n",
    "\n",
    "#Mapping days to numerical values and the other way:\n",
    "dtn = dict(zip(weekdays, list(range(1,8))))\n",
    "ntd = dict(zip(list(range(1,8)), weekdays))\n",
    "\n",
    "#Mapping Causes to numerical values and the other way:\n",
    "cause_tn = dict(zip(cause, list(range(1,7))))\n",
    "cause_tl = dict(zip(cause, list(range(1,7))))\n",
    "\n",
    "#Adding a column with the day of the week number to the DataFrame:\n",
    "df0.insert(loc=df0.columns.get_loc(\"Weekday\") + 1, column='Weekday Number', value=df0.Weekday.replace(dtn))\n",
    "\n",
    "#Adding a column with the cause number to the DataFrame:\n",
    "df0.insert(loc=df0.columns.get_loc(\"Cause\") + 1, column='Cause Number', value=df0.Cause.replace(cause_tn))\n",
    "df0.head(3)"
   ]
  },
  {
   "cell_type": "markdown",
   "metadata": {},
   "source": [
    "<p style = \"font-family:arial;font-size:19px;\">The last step consist in exporting the processed Dataframe to a CSV file that we are going to use in the visual and exploratory analysis.</p>"
   ]
  },
  {
   "cell_type": "code",
   "execution_count": 18,
   "metadata": {},
   "outputs": [],
   "source": [
    "df0.to_csv('2017_2018_Barcelonas_Accidents.csv', index=False)"
   ]
  },
  {
   "cell_type": "markdown",
   "metadata": {},
   "source": [
    "<font size=\"+2\">\n",
    "  <address>\n",
    "Written by <a href=\"mailto:NahuelMS@hotmail.com\">Nahuel Mussini</a><br>\n",
    "  </address>\n",
    "</font>"
   ]
  }
 ],
 "metadata": {
  "kernelspec": {
   "display_name": "Python 3",
   "language": "python",
   "name": "python3"
  },
  "language_info": {
   "codemirror_mode": {
    "name": "ipython",
    "version": 3
   },
   "file_extension": ".py",
   "mimetype": "text/x-python",
   "name": "python",
   "nbconvert_exporter": "python",
   "pygments_lexer": "ipython3",
   "version": "3.7.6"
  }
 },
 "nbformat": 4,
 "nbformat_minor": 4
}
